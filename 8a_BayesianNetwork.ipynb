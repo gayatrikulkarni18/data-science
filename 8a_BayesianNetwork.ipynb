{
 "cells": [
  {
   "cell_type": "code",
   "execution_count": 11,
   "id": "322e86ff-e4af-460d-9bfc-45d8c138f150",
   "metadata": {},
   "outputs": [
    {
     "name": "stderr",
     "output_type": "stream",
     "text": [
      "Unable to create process using 'C:\\Users\\Gayatri kulkarni\\anaconda3\\python.exe \"C:\\Users\\Gayatri kulkarni\\anaconda3\\Scripts\\pip-script.py\" install pgmpy'\n"
     ]
    }
   ],
   "source": [
    "!pip install pgmpy"
   ]
  },
  {
   "cell_type": "code",
   "execution_count": 12,
   "id": "eba47c73-0f0c-4d89-90f2-4e4a009422b0",
   "metadata": {},
   "outputs": [
    {
     "name": "stderr",
     "output_type": "stream",
     "text": [
      "Unable to create process using 'C:\\Users\\Gayatri kulkarni\\anaconda3\\python.exe \"C:\\Users\\Gayatri kulkarni\\anaconda3\\Scripts\\pip-script.py\" install networkx'\n"
     ]
    }
   ],
   "source": [
    "!pip install networkx"
   ]
  },
  {
   "cell_type": "code",
   "execution_count": 13,
   "id": "c645b5fc-b107-42d9-95f7-1b393f54584f",
   "metadata": {},
   "outputs": [
    {
     "name": "stderr",
     "output_type": "stream",
     "text": [
      "Unable to create process using 'C:\\Users\\Gayatri kulkarni\\anaconda3\\python.exe \"C:\\Users\\Gayatri kulkarni\\anaconda3\\Scripts\\pip-script.py\" install numpy pandas scipy network matplotlib'\n"
     ]
    }
   ],
   "source": [
    "!pip install numpy pandas scipy network matplotlib"
   ]
  },
  {
   "cell_type": "code",
   "execution_count": 5,
   "id": "4c827d9c-8de5-4da2-b669-60b09520b8de",
   "metadata": {},
   "outputs": [
    {
     "data": {
      "image/png": "[encoded data removed]",
      "text/plain": [
       "<Figure size 640x480 with 1 Axes>"
      ]
     },
     "metadata": {},
     "output_type": "display_data"
    },
    {
     "name": "stdout",
     "output_type": "stream",
     "text": [
      "CPD of Age\n",
      "+---------+-----+\n",
      "| Age(30) | 0.2 |\n",
      "+---------+-----+\n",
      "| Age(40) | 0.2 |\n",
      "+---------+-----+\n",
      "| Age(50) | 0.2 |\n",
      "+---------+-----+\n",
      "| Age(60) | 0.2 |\n",
      "+---------+-----+\n",
      "| Age(70) | 0.2 |\n",
      "+---------+-----+\n",
      "CPD of HeartDisease\n",
      "+-------------------+---------------------+-----+--------------------+--------------------+\n",
      "| Age               | Age(30)             | ... | Age(70)            | Age(70)            |\n",
      "+-------------------+---------------------+-----+--------------------+--------------------+\n",
      "| ChestPain         | ChestPain(Atypical) | ... | ChestPain(Typical) | ChestPain(Typical) |\n",
      "+-------------------+---------------------+-----+--------------------+--------------------+\n",
      "| Gender            | Gender(Female)      | ... | Gender(Female)     | Gender(Male)       |\n",
      "+-------------------+---------------------+-----+--------------------+--------------------+\n",
      "| HeartDisease(No)  | 0.5                 | ... | 0.5                | 0.0                |\n",
      "+-------------------+---------------------+-----+--------------------+--------------------+\n",
      "| HeartDisease(Yes) | 0.5                 | ... | 0.5                | 1.0                |\n",
      "+-------------------+---------------------+-----+--------------------+--------------------+\n",
      "CPD of Gender\n",
      "+----------------+-----+\n",
      "| Gender(Female) | 0.4 |\n",
      "+----------------+-----+\n",
      "| Gender(Male)   | 0.6 |\n",
      "+----------------+-----+\n",
      "CPD of ChestPain\n",
      "+---------------------+-----+\n",
      "| ChestPain(Atypical) | 0.4 |\n",
      "+---------------------+-----+\n",
      "| ChestPain(Typical)  | 0.6 |\n",
      "+---------------------+-----+\n",
      "+-------------------+---------------------+\n",
      "| HeartDisease      |   phi(HeartDisease) |\n",
      "+===================+=====================+\n",
      "| HeartDisease(No)  |              0.0000 |\n",
      "+-------------------+---------------------+\n",
      "| HeartDisease(Yes) |              1.0000 |\n",
      "+-------------------+---------------------+\n",
      "Gayatri Kulkarni -53004230002\n"
     ]
    }
   ],
   "source": [
    "import numpy as np\n",
    "import pandas as pd\n",
    "from pgmpy.models import BayesianNetwork\n",
    "from pgmpy.estimators import ParameterEstimator, MaximumLikelihoodEstimator\n",
    "from pgmpy.inference import VariableElimination\n",
    "import networkx as nx\n",
    "import matplotlib.pyplot as plt\n",
    "\n",
    "data = pd.DataFrame (data={'Age': [30, 40, 50, 60, 70],\n",
    "                           'Gender': ['Male', 'Female', 'Male', 'Female', 'Male'],\n",
    "                           'ChestPain': ['Typical', 'Atypical', 'Typical', 'Atypical', 'Typical'],\n",
    "                           'HeartDisease': ['Yes', 'No', 'Yes', 'No', 'Yes']})\n",
    "model = BayesianNetwork([('Age', 'HeartDisease'),\n",
    "                         ('Gender', 'HeartDisease'),\n",
    "                         ('ChestPain', 'HeartDisease')])\n",
    "\n",
    "model.fit(data, estimator=MaximumLikelihoodEstimator)\n",
    "\n",
    "pos = nx.circular_layout(model)\n",
    "nx.draw(model, pos, with_labels=True, node_size=5000, node_color=\"skyblue\", font_size=12, font_color=\"black\")\n",
    "plt.title(\"Bayesian Network Structure\")\n",
    "plt.show()\n",
    "\n",
    "for cpd in model.get_cpds():\n",
    "    print(\"CPD of\", cpd.variable)\n",
    "    print(cpd)\n",
    "\n",
    "inference = VariableElimination(model)\n",
    "query = inference.query(variables=['HeartDisease'], evidence={'Age':50, 'Gender': 'Male', 'ChestPain': 'Typical'})\n",
    "print(query)\n",
    "print(\"Gayatri Kulkarni -53004230002\")"
   ]
  },
  {
   "cell_type": "code",
   "execution_count": 4,
   "id": "b5b71527-1383-4431-bb7b-57c6ad0f7227",
   "metadata": {},
   "outputs": [
    {
     "ename": "AttributeError",
     "evalue": "module 'pandas' has no attribute 'Dataframe'",
     "output_type": "error",
     "traceback": [
      "\u001b[1;31m---------------------------------------------------------------------------\u001b[0m",
      "\u001b[1;31mAttributeError\u001b[0m                            Traceback (most recent call last)",
      "Cell \u001b[1;32mIn[4], line 9\u001b[0m\n\u001b[0;32m      6\u001b[0m \u001b[38;5;28;01mimport\u001b[39;00m \u001b[38;5;21;01mnetworkx\u001b[39;00m \u001b[38;5;28;01mas\u001b[39;00m \u001b[38;5;21;01mnx\u001b[39;00m\n\u001b[0;32m      7\u001b[0m \u001b[38;5;28;01mimport\u001b[39;00m \u001b[38;5;21;01mmatplotlib\u001b[39;00m\u001b[38;5;21;01m.\u001b[39;00m\u001b[38;5;21;01mpyplot\u001b[39;00m \u001b[38;5;28;01mas\u001b[39;00m \u001b[38;5;21;01mplt\u001b[39;00m\n\u001b[1;32m----> 9\u001b[0m data \u001b[38;5;241m=\u001b[39m pd\u001b[38;5;241m.\u001b[39mDataframe(data\u001b[38;5;241m=\u001b[39m{\u001b[38;5;124m'\u001b[39m\u001b[38;5;124mAge\u001b[39m\u001b[38;5;124m'\u001b[39m : [\u001b[38;5;241m30\u001b[39m, \u001b[38;5;241m40\u001b[39m, \u001b[38;5;241m50\u001b[39m, \u001b[38;5;241m60\u001b[39m, \u001b[38;5;241m70\u001b[39m],\n\u001b[0;32m     10\u001b[0m         \u001b[38;5;124m'\u001b[39m\u001b[38;5;124mGender\u001b[39m\u001b[38;5;124m'\u001b[39m :[\u001b[38;5;124m'\u001b[39m\u001b[38;5;124mMale\u001b[39m\u001b[38;5;124m'\u001b[39m, \u001b[38;5;124m'\u001b[39m\u001b[38;5;124mFemale\u001b[39m\u001b[38;5;124m'\u001b[39m, \u001b[38;5;124m'\u001b[39m\u001b[38;5;124mMale\u001b[39m\u001b[38;5;124m'\u001b[39m, \u001b[38;5;124m'\u001b[39m\u001b[38;5;124mFemale\u001b[39m\u001b[38;5;124m'\u001b[39m,], \u001b[38;5;124m'\u001b[39m\u001b[38;5;124mChestPain\u001b[39m\u001b[38;5;124m'\u001b[39m: [\u001b[38;5;124m'\u001b[39m\u001b[38;5;124mTypical\u001b[39m\u001b[38;5;124m'\u001b[39m, \u001b[38;5;124m'\u001b[39m\u001b[38;5;124mAtypical\u001b[39m\u001b[38;5;124m'\u001b[39m,\u001b[38;5;124m'\u001b[39m\u001b[38;5;124mTypical\u001b[39m\u001b[38;5;124m'\u001b[39m, \u001b[38;5;124m'\u001b[39m\u001b[38;5;124mAtypical\u001b[39m\u001b[38;5;124m'\u001b[39m, \u001b[38;5;124m'\u001b[39m\u001b[38;5;124mTypical\u001b[39m\u001b[38;5;124m'\u001b[39m],\n\u001b[0;32m     11\u001b[0m                            \u001b[38;5;124m'\u001b[39m\u001b[38;5;124mHeartDisease\u001b[39m\u001b[38;5;124m'\u001b[39m : [ \u001b[38;5;124m'\u001b[39m\u001b[38;5;124mYes\u001b[39m\u001b[38;5;124m'\u001b[39m, \u001b[38;5;124m'\u001b[39m\u001b[38;5;124mNo\u001b[39m\u001b[38;5;124m'\u001b[39m, \u001b[38;5;124m'\u001b[39m\u001b[38;5;124mYes\u001b[39m\u001b[38;5;124m'\u001b[39m, \u001b[38;5;124m'\u001b[39m\u001b[38;5;124mNo\u001b[39m\u001b[38;5;124m'\u001b[39m, \u001b[38;5;124m'\u001b[39m\u001b[38;5;124mYes\u001b[39m\u001b[38;5;124m'\u001b[39m]})\n\u001b[0;32m     13\u001b[0m \u001b[38;5;66;03m#Define the structure of the Bayesian Network\u001b[39;00m\n\u001b[0;32m     14\u001b[0m model \u001b[38;5;241m=\u001b[39m BayesianNetwork ([(\u001b[38;5;124m'\u001b[39m\u001b[38;5;124mAge\u001b[39m\u001b[38;5;124m'\u001b[39m, \u001b[38;5;124m'\u001b[39m\u001b[38;5;124mHeart Disease\u001b[39m\u001b[38;5;124m'\u001b[39m),\n\u001b[0;32m     15\u001b[0m                           (\u001b[38;5;124m'\u001b[39m\u001b[38;5;124mGender\u001b[39m\u001b[38;5;124m'\u001b[39m, \u001b[38;5;124m'\u001b[39m\u001b[38;5;124mHeart Disease\u001b[39m\u001b[38;5;124m'\u001b[39m),\n\u001b[0;32m     16\u001b[0m                             (\u001b[38;5;124m'\u001b[39m\u001b[38;5;124mChestPain\u001b[39m\u001b[38;5;124m'\u001b[39m, \u001b[38;5;124m'\u001b[39m\u001b[38;5;124mHeart Disease\u001b[39m\u001b[38;5;124m'\u001b[39m)])\n",
      "\u001b[1;31mAttributeError\u001b[0m: module 'pandas' has no attribute 'Dataframe'"
     ]
    }
   ],
   "source": [
    "import numpy as np\n",
    "import pandas as pd\n",
    "from pgmpy.models import BayesianNetwork\n",
    "from pgmpy.estimators import ParameterEstimator, MaximumLikelihoodEstimator\n",
    "from pgmpy.inference import VariableElimanation\n",
    "import networkx as nx\n",
    "import matplotlib.pyplot as plt\n",
    "\n",
    "data = pd.Dataframe (data={'Age' : [30, 40, 50, 60, 70],\n",
    "        'Gender' :['Male', 'Female', 'Male', 'Female',], 'ChestPain': ['Typical', 'Atypical','Typical', 'Atypical', 'Typical'],\n",
    "                           'HeartDisease' : [ 'Yes', 'No', 'Yes', 'No', 'Yes']})\n",
    "\n",
    "#Define the structure of the Bayesian Network\n",
    "model = BayesianNetwork ([('Age', 'Heart Disease'),\n",
    "                          ('Gender', 'Heart Disease'),\n",
    "                            ('ChestPain', 'Heart Disease')])\n",
    "\n",
    "#Estimate parameters from data using Maximum Likelihood Estimation\n",
    "model.fit(data, estimator=MaximumLikelihoodEstimator)\n",
    "\n",
    "#Visulize the Bayesian network structure with a different layout\n",
    "pos = nx.circular_layout(model) #You can change 'circular_layout' to another layout\n",
    "nx.draw(model, pos, with_labels=True, node_size=5000, node_color=\"skyblue\", font_size=12, font_color=\"black\")\n",
    "plt.title(\"Bayesian Network Structure\")\n",
    "plt.show()\n",
    "\n",
    "#Visualize Conditional Probability Distribution (Cpds)\n",
    "for cpd in model.get_cpds():\n",
    "    print(\"CPD of\", cpd.variable)\n",
    "    print(cpd)\n",
    "inference = VariableElimination(model)\n",
    "query = interference.query(variables=['HeartDisease'], evidence={'Age':50, 'Gender':\"Male\", 'ChestPain':\"Typical\"})\n",
    "print(query)\n"
   ]
  },
  {
   "cell_type": "code",
   "execution_count": null,
   "id": "2ff78b9a-ced6-4184-9708-633b13e5a0ff",
   "metadata": {},
   "outputs": [],
   "source": [
    "pip install pgmy\n"
   ]
  },
  {
   "cell_type": "code",
   "execution_count": null,
   "id": "83378ae6-40ff-4208-a6f5-6b554ab26e20",
   "metadata": {},
   "outputs": [],
   "source": []
  }
 ],
 "metadata": {
  "kernelspec": {
   "display_name": "Python 3 (ipykernel)",
   "language": "python",
   "name": "python3"
  },
  "language_info": {
   "codemirror_mode": {
    "name": "ipython",
    "version": 3
   },
   "file_extension": ".py",
   "mimetype": "text/x-python",
   "name": "python",
   "nbconvert_exporter": "python",
   "pygments_lexer": "ipython3",
   "version": "3.12.4"
  }
 },
 "nbformat": 4,
 "nbformat_minor": 5
}
