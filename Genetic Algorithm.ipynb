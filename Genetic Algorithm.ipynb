{
 "cells": [
  {
   "cell_type": "code",
   "execution_count": null,
   "metadata": {},
   "outputs": [],
   "source": [
    "import random\n",
    "import matplotlib.pyplot as plt\n",
    "\n",
    "# Genetic Algorithm parameters\n",
    "POPOUATION_SIZE = 20\n",
    "GENES =['0', '1']\n",
    "# TARGET_CITY=\"1010101\" #Define the target city sequence\n",
    "TARGET_CITY = \"110010101001110\" #More complex target city sequence\n",
    "MUTATION_RATE = 0.1\n",
    "\n",
    "#Define a fitness function\n",
    "def calculate_fitness(chromosome):\n",
    "    fitness = sum(1 for a, b in zip(chromosomes, TARGET_CITY) if a==b)\n",
    "    return fitness\n",
    "# Create initial population\n",
    "def create_population(population_size, genes, target_city):\n",
    "    population = []\n",
    "    for_ in range(population_size):\n",
    "        chromosome = ''.join(random.choice(genes) for _ in range(len(target_city)))\n",
    "        population.append(chromosome)\n",
    "    return population\n"
   ]
  }
 ],
 "metadata": {
  "kernelspec": {
   "display_name": "Python 3",
   "language": "python",
   "name": "python3"
  },
  "language_info": {
   "codemirror_mode": {
    "name": "ipython",
    "version": 3
   },
   "file_extension": ".py",
   "mimetype": "text/x-python",
   "name": "python",
   "nbconvert_exporter": "python",
   "pygments_lexer": "ipython3",
   "version": "3.7.1"
  }
 },
 "nbformat": 4,
 "nbformat_minor": 2
}
