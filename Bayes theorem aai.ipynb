{
 "cells": [
  {
   "cell_type": "code",
   "execution_count": 2,
   "id": "1eddb115-ae7c-46ea-9fe0-d2e3b2e7229f",
   "metadata": {},
   "outputs": [
    {
     "name": "stdout",
     "output_type": "stream",
     "text": [
      "P(setosa | sepal_length > 5.0) = 0.1864\n",
      "Gayatri Kulkarni - 53004230002\n"
     ]
    }
   ],
   "source": [
    "import pandas as pd\n",
    "\n",
    "def bayes_theorem(prior_A, likelihood_B_given_A, marginal_B):\n",
    "    \"\"\"\n",
    "    Calculate the posterior probability using Bayes' Theorem.\n",
    "    \n",
    "    :param prior_A: P(A) - Prior probability of A\n",
    "    :param likelihood_B_given_A: P(B|A) - Likelihood of B given A\n",
    "    :param marginal_B: P(B) - Marginal probability of B\n",
    "    :return: P(A|B) - Posterior probability of A given B\n",
    "    \"\"\"\n",
    "    return (likelihood_B_given_A * prior_A) / marginal_B\n",
    "\n",
    "# Load the Iris dataset\n",
    "def load_iris_dataset(file_path):\n",
    "    return pd.read_csv(file_path)\n",
    "\n",
    "# Calculate prior probability P(A)\n",
    "def calculate_prior(data, class_col, class_value):\n",
    "    return len(data[data[class_col] == class_value]) / len(data)\n",
    "\n",
    "# Calculate likelihood P(B|A)\n",
    "def calculate_likelihood(data, class_col, class_value, feature_col, feature_condition):\n",
    "    subset = data[data[class_col] == class_value]\n",
    "    return len(subset[subset[feature_col] > feature_condition]) / len(subset)\n",
    "\n",
    "# Calculate marginal probability P(B)\n",
    "def calculate_marginal(data, feature_col, feature_condition):\n",
    "    return len(data[data[feature_col] > feature_condition]) / len(data)\n",
    "\n",
    "# Apply Bayes' Theorem on the Iris dataset\n",
    "def apply_bayes_to_iris(file_path, class_col, class_value, feature_col, feature_condition):\n",
    "    # Load dataset\n",
    "    data = load_iris_dataset(file_path)\n",
    "\n",
    "    # Calculate prior P(A)\n",
    "    prior_A = calculate_prior(data, class_col, class_value)\n",
    "\n",
    "    # Calculate likelihood P(B|A)\n",
    "    likelihood_B_given_A = calculate_likelihood(data, class_col, class_value, feature_col, feature_condition)\n",
    "\n",
    "    # Calculate marginal probability P(B)\n",
    "    marginal_B = calculate_marginal(data, feature_col, feature_condition)\n",
    "\n",
    "    # Apply Bayes' Theorem\n",
    "    posterior_A_given_B = bayes_theorem(prior_A, likelihood_B_given_A, marginal_B)\n",
    "\n",
    "    return posterior_A_given_B\n",
    "\n",
    "# Example usage:\n",
    "# Assume we want to calculate the probability P(Class='setosa' | SepalLength > 5.0)\n",
    "file_path = 'iris.csv'  # Path to the iris dataset file\n",
    "class_col = 'species'  # The column representing the class (A)\n",
    "class_value = 'setosa'  # The class value we're interested in (A)\n",
    "feature_col = 'sepal_length'  # The feature we're using (B)\n",
    "feature_condition = 5.0  # The condition on the feature (B > 5.0)\n",
    "\n",
    "# Calculate posterior probability P(setosa|sepal_length > 5.0)\n",
    "posterior_probability = apply_bayes_to_iris(file_path, class_col, class_value, feature_col, feature_condition)\n",
    "print(f\"P({class_value} | {feature_col} > {feature_condition}) = {posterior_probability:.4f}\")\n",
    "print(\"Gayatri Kulkarni - 53004230002\")"
   ]
  },
  {
   "cell_type": "code",
   "execution_count": null,
   "id": "9049045a-7fb7-4050-9eb4-4f16046fb594",
   "metadata": {},
   "outputs": [],
   "source": []
  }
 ],
 "metadata": {
  "kernelspec": {
   "display_name": "Python 3 (ipykernel)",
   "language": "python",
   "name": "python3"
  },
  "language_info": {
   "codemirror_mode": {
    "name": "ipython",
    "version": 3
   },
   "file_extension": ".py",
   "mimetype": "text/x-python",
   "name": "python",
   "nbconvert_exporter": "python",
   "pygments_lexer": "ipython3",
   "version": "3.12.4"
  }
 },
 "nbformat": 4,
 "nbformat_minor": 5
}
