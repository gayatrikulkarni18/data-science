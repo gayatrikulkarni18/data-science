{
 "cells": [
  {
   "cell_type": "code",
   "execution_count": 1,
   "id": "ae40dd6e-166e-4e78-a62d-0416c07c3a7a",
   "metadata": {},
   "outputs": [
    {
     "ename": "ModuleNotFoundError",
     "evalue": "No module named 'pgmpy'",
     "output_type": "error",
     "traceback": [
      "\u001b[1;31m---------------------------------------------------------------------------\u001b[0m",
      "\u001b[1;31mModuleNotFoundError\u001b[0m                       Traceback (most recent call last)",
      "Cell \u001b[1;32mIn[1], line 3\u001b[0m\n\u001b[0;32m      1\u001b[0m \u001b[38;5;28;01mimport\u001b[39;00m \u001b[38;5;21;01mnumpy\u001b[39;00m \u001b[38;5;28;01mas\u001b[39;00m \u001b[38;5;21;01mnp\u001b[39;00m\n\u001b[0;32m      2\u001b[0m \u001b[38;5;28;01mimport\u001b[39;00m \u001b[38;5;21;01mpandas\u001b[39;00m \u001b[38;5;28;01mas\u001b[39;00m \u001b[38;5;21;01mpd\u001b[39;00m\n\u001b[1;32m----> 3\u001b[0m \u001b[38;5;28;01mfrom\u001b[39;00m \u001b[38;5;21;01mpgmpy\u001b[39;00m\u001b[38;5;21;01m.\u001b[39;00m\u001b[38;5;21;01mmodels\u001b[39;00m \u001b[38;5;28;01mimport\u001b[39;00m BayesianNetwork\n\u001b[0;32m      4\u001b[0m \u001b[38;5;28;01mfrom\u001b[39;00m \u001b[38;5;21;01mpgmpy\u001b[39;00m\u001b[38;5;21;01m.\u001b[39;00m\u001b[38;5;21;01mestimators\u001b[39;00m \u001b[38;5;28;01mimport\u001b[39;00m ParameterEstimator, MaximumLikelihoodEstimator\n\u001b[0;32m      5\u001b[0m \u001b[38;5;28;01mfrom\u001b[39;00m \u001b[38;5;21;01mpgmpy\u001b[39;00m\u001b[38;5;21;01m.\u001b[39;00m\u001b[38;5;21;01minference\u001b[39;00m \u001b[38;5;28;01mimport\u001b[39;00m VariableElimanation\n",
      "\u001b[1;31mModuleNotFoundError\u001b[0m: No module named 'pgmpy'"
     ]
    }
   ],
   "source": [
    "import numpy as np\n",
    "import pandas as pd\n",
    "from pgmpy.models import BayesianNetwork\n",
    "from pgmpy.estimators import ParameterEstimator, MaximumLikelihoodEstimator\n",
    "from pgmpy.inference import VariableElimanation\n",
    "import networkx as nx\n",
    "import matplotlib.pyplot as plt\n",
    "\n",
    "data = pd.Dataframe (data={'Age' : [30, 40, 50, 60, 70],\n",
    "        'Gender' :['Male', 'Female', 'Male', 'Female',], 'ChestPain': ['Typical', 'Atypical','Typical', 'Atypical', 'Typical'],\n",
    "                           'HeartDisease' : [ 'Yes', 'No', 'Yes', 'No', 'Yes']})\n",
    "\n",
    "#Define the structure of the Bayesian Network\n",
    "model = BayesianNetwork ([('Age', 'Heart Disease'),\n",
    "                          ('Gender', 'Heart Disease'),\n",
    "                            ('ChestPain', 'Heart Disease')])\n",
    "\n",
    "#Estimate parameters from data using Maximum Likelihood Estimation\n",
    "model.fit(data, estimator=MaximumLikelihoodEstimator)\n",
    "\n",
    "#Visulize the Bayesian network structure with a different layout\n",
    "pos = nx.circular_layout(model) #You can change 'circular_layout' to another layout\n",
    "nx.draw(model, pos, with_labels=True, node_size=5000, node_color=\"skyblue\", font_size=12, font_color=\"black\")\n",
    "plt.title(\"Bayesian Network Structure\")\n",
    "plt.show()\n",
    "\n",
    "#Visualize Conditional Probability Distribution (Cpds)\n",
    "for cpd in model.get_cpds():\n",
    "    print(\"CPD of\", cpd.variable)\n",
    "    print(cpd)\n",
    "inference = VariableElimination(model)\n",
    "query = interference.query(variables=['Hea!pip install networkxrtDisease'], evidence={'Age':50, 'Gender':\"Male\", 'ChestPain':\"Typical\"})\n",
    "print(query)\n"
   ]
  },
  {
   "cell_type": "code",
   "execution_count": 2,
   "id": "a59ab8f9-58f3-4016-842e-2add2f21c336",
   "metadata": {},
   "outputs": [
    {
     "name": "stderr",
     "output_type": "stream",
     "text": [
      "Unable to create process using 'C:\\Users\\Gayatri kulkarni\\anaconda3\\python.exe \"C:\\Users\\Gayatri kulkarni\\anaconda3\\Scripts\\pip-script.py\" install pgmpy'\n"
     ]
    }
   ],
   "source": [
    "!pip install pgmpy"
   ]
  },
  {
   "cell_type": "code",
   "execution_count": 3,
   "id": "c1fe49bc-82cd-4405-9db8-7896e6d009e5",
   "metadata": {},
   "outputs": [
    {
     "name": "stderr",
     "output_type": "stream",
     "text": [
      "Unable to create process using 'C:\\Users\\Gayatri kulkarni\\anaconda3\\python.exe \"C:\\Users\\Gayatri kulkarni\\anaconda3\\Scripts\\pip-script.py\" install networkx'\n"
     ]
    }
   ],
   "source": [
    "!pip install networkx"
   ]
  },
  {
   "cell_type": "code",
   "execution_count": null,
   "id": "1dcdecb7-964f-4cae-9de5-7b8c3c2c7453",
   "metadata": {},
   "outputs": [],
   "source": []
  }
 ],
 "metadata": {
  "kernelspec": {
   "display_name": "Python 3 (ipykernel)",
   "language": "python",
   "name": "python3"
  },
  "language_info": {
   "codemirror_mode": {
    "name": "ipython",
    "version": 3
   },
   "file_extension": ".py",
   "mimetype": "text/x-python",
   "name": "python",
   "nbconvert_exporter": "python",
   "pygments_lexer": "ipython3",
   "version": "3.12.4"
  }
 },
 "nbformat": 4,
 "nbformat_minor": 5
}
