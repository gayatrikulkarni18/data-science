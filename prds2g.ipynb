{
 "cells": [
  {
   "cell_type": "code",
   "execution_count": 3,
   "id": "6106f7ab",
   "metadata": {},
   "outputs": [
    {
     "name": "stdout",
     "output_type": "stream",
     "text": [
      "Input Data Values ===================================\n",
      "     index                    Country ISO-2-CODE ISO-3-Code  ISO-M49\n",
      "0        0                Afghanistan         AF        AFG        4\n",
      "1        1              Aland Islands         AX        ALA      248\n",
      "2        2                    Albania         AL        ALB        8\n",
      "3        3                    Algeria         DZ        DZA       12\n",
      "4        4             American Samoa         AS        ASM       16\n",
      "..     ...                        ...        ...        ...      ...\n",
      "242    242  Wallis and Futuna Islands         WF        WLF      876\n",
      "243    243             Western Sahara         EH        ESH      732\n",
      "244    244                      Yemen         YE        YEM      887\n",
      "245    245                     Zambia         ZM        ZMB      894\n",
      "246    246                   Zimbabwe         ZW        ZWE      716\n",
      "\n",
      "[247 rows x 5 columns]\n",
      "=====================================================\n"
     ]
    }
   ],
   "source": [
    "# Utility Start Database to HORUS =================================\n",
    "# Standard Tools\n",
    "#=============================================================\n",
    "import pandas as pd\n",
    "import sqlite3 as sq\n",
    "# Input Agreement ============================================\n",
    "sInputFileName='D:/practical-data-science-master/VKHCG/05-DS/9999-Data/utility.db'\n",
    "sInputTable='Country_Code'\n",
    "conn = sq.connect(sInputFileName)\n",
    "sSQL='select * FROM ' + sInputTable + ';'\n",
    "InputData=pd.read_sql_query(sSQL, conn)\n",
    "print('Input Data Values ===================================')\n",
    "print(InputData)\n",
    "print('=====================================================')\n"
   ]
  },
  {
   "cell_type": "code",
   "execution_count": 4,
   "id": "dc708dd0",
   "metadata": {},
   "outputs": [
    {
     "name": "stdout",
     "output_type": "stream",
     "text": [
      "Process Data Values =================================\n",
      "               index                CountryName\n",
      "CountryNumber                                  \n",
      "716              246                   Zimbabwe\n",
      "894              245                     Zambia\n",
      "887              244                      Yemen\n",
      "732              243             Western Sahara\n",
      "876              242  Wallis and Futuna Islands\n",
      "...              ...                        ...\n",
      "16                 4             American Samoa\n",
      "12                 3                    Algeria\n",
      "8                  2                    Albania\n",
      "248                1              Aland Islands\n",
      "4                  0                Afghanistan\n",
      "\n",
      "[247 rows x 2 columns]\n",
      "=====================================================\n"
     ]
    }
   ],
   "source": [
    "# Processing Rules ===========================================\n",
    "ProcessData=InputData\n",
    "# Remove columns ISO-2-Code and ISO-3-CODE\n",
    "ProcessData.drop('ISO-2-CODE', axis=1,inplace=True)\n",
    "ProcessData.drop('ISO-3-Code', axis=1,inplace=True)\n",
    "# Rename Country and ISO-M49\n",
    "ProcessData.rename(columns={'Country': 'CountryName'}, inplace=True)\n",
    "ProcessData.rename(columns={'ISO-M49': 'CountryNumber'}, inplace=True)\n",
    "# Set new Index\n",
    "ProcessData.set_index('CountryNumber', inplace=True)\n",
    "# Sort data by CurrencyNumber\n",
    "ProcessData.sort_values('CountryName', axis=0, ascending=False, inplace=True)\n",
    "print('Process Data Values =================================')\n",
    "print(ProcessData)\n",
    "print('=====================================================')"
   ]
  },
  {
   "cell_type": "code",
   "execution_count": 6,
   "id": "e1284d26",
   "metadata": {},
   "outputs": [
    {
     "name": "stdout",
     "output_type": "stream",
     "text": [
      "Database to HORUS - Done\n",
      "Gayatri Kulkarni -53004230002\n"
     ]
    }
   ],
   "source": [
    "# Output Agreement ===========================================\n",
    "OutputData=ProcessData\n",
    "sOutputFileName='D:/practical-data-science-master/VKHCG/05-DS/9999-Data/HORUS-CSV-Country.csv'\n",
    "OutputData.to_csv(sOutputFileName, index = False)\n",
    "print('Database to HORUS - Done')\n",
    "# Utility done ===============================================\n",
    "print('Gayatri Kulkarni -53004230002')"
   ]
  },
  {
   "cell_type": "code",
   "execution_count": null,
   "id": "f314e7b1",
   "metadata": {},
   "outputs": [],
   "source": []
  }
 ],
 "metadata": {
  "kernelspec": {
   "display_name": "Python 3 (ipykernel)",
   "language": "python",
   "name": "python3"
  },
  "language_info": {
   "codemirror_mode": {
    "name": "ipython",
    "version": 3
   },
   "file_extension": ".py",
   "mimetype": "text/x-python",
   "name": "python",
   "nbconvert_exporter": "python",
   "pygments_lexer": "ipython3",
   "version": "3.11.5"
  }
 },
 "nbformat": 4,
 "nbformat_minor": 5
}
