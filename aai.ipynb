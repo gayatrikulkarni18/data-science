{
 "cells": [
  {
   "cell_type": "code",
   "execution_count": 38,
   "id": "e1047b17-b9ac-4ff4-a6d2-972e6646990a",
   "metadata": {},
   "outputs": [
    {
     "name": "stdout",
     "output_type": "stream",
     "text": [
      "Addition adds two numbers together.\n",
      "Result of 10 + 5 = 15\n"
     ]
    }
   ],
   "source": [
    "class MathTutor:\n",
    "    def __init__(self):\n",
    "        self.operations = {\n",
    "            '+' : lambda a, b: a + b,\n",
    "        }\n",
    "\n",
    "    def explain_operation(self, operator):\n",
    "        explanation = {\n",
    "            '+':\"Addition adds two numbers together.\",\n",
    "             '-':\"Subtraction subtract the second.\",\n",
    "             '*':'Multiplication gives the product of two z                                                                                                                      \n",
    "        }\n",
    "        return explanation.get(operator, \"Invalid operator.\")\n",
    "    def perform_operation(self, operator, a, b):\n",
    "        if operator in self.operations:\n",
    "            return self.operations[operator](a,b)\n",
    "        else:\n",
    "            return None\n",
    "if __name__==\"__main__\":\n",
    "    tutor = MathTutor()\n",
    "    #eg\n",
    "    operator = '+'\n",
    "    a,b=10, 5\n",
    "    print(tutor.explain_operation(operator))\n",
    "    result = tutor.perform_operation(operator, a, b)\n",
    "    print(f\"Result of {a} {operator} {b} = {result}\")"
   ]
  },
  {
   "cell_type": "code",
   "execution_count": null,
   "id": "67004ed1-84f4-48e3-9335-9628318bfd2c",
   "metadata": {},
   "outputs": [],
   "source": []
  },
  {
   "cell_type": "code",
   "execution_count": null,
   "id": "b39887de-04b1-4f2d-9d67-a9cfcc1493d1",
   "metadata": {},
   "outputs": [],
   "source": []
  }
 ],
 "metadata": {
  "kernelspec": {
   "display_name": "Python 3 (ipykernel)",
   "language": "python",
   "name": "python3"
  },
  "language_info": {
   "codemirror_mode": {
    "name": "ipython",
    "version": 3
   },
   "file_extension": ".py",
   "mimetype": "text/x-python",
   "name": "python",
   "nbconvert_exporter": "python",
   "pygments_lexer": "ipython3",
   "version": "3.12.4"
  }
 },
 "nbformat": 4,
 "nbformat_minor": 5
}
