{
 "cells": [
  {
   "cell_type": "code",
   "execution_count": 4,
   "id": "322e86ff-e4af-460d-9bfc-45d8c138f150",
   "metadata": {},
   "outputs": [
    {
     "name": "stdout",
     "output_type": "stream",
     "text": [
      "Defaulting to user installation because normal site-packages is not writeable\n",
      "Requirement already satisfied: pgmpy in c:\\users\\admin\\appdata\\roaming\\python\\python312\\site-packages (0.1.26)\n",
      "Requirement already satisfied: networkx in c:\\programdata\\anaconda3\\lib\\site-packages (from pgmpy) (3.2.1)\n",
      "Requirement already satisfied: numpy in c:\\programdata\\anaconda3\\lib\\site-packages (from pgmpy) (1.26.4)\n",
      "Requirement already satisfied: scipy in c:\\programdata\\anaconda3\\lib\\site-packages (from pgmpy) (1.13.1)\n",
      "Requirement already satisfied: scikit-learn in c:\\programdata\\anaconda3\\lib\\site-packages (from pgmpy) (1.4.2)\n",
      "Requirement already satisfied: pandas in c:\\programdata\\anaconda3\\lib\\site-packages (from pgmpy) (2.2.2)\n",
      "Requirement already satisfied: pyparsing in c:\\programdata\\anaconda3\\lib\\site-packages (from pgmpy) (3.0.9)\n",
      "Requirement already satisfied: torch in c:\\users\\admin\\appdata\\roaming\\python\\python312\\site-packages (from pgmpy) (2.4.1)\n",
      "Requirement already satisfied: statsmodels in c:\\programdata\\anaconda3\\lib\\site-packages (from pgmpy) (0.14.2)\n",
      "Requirement already satisfied: tqdm in c:\\programdata\\anaconda3\\lib\\site-packages (from pgmpy) (4.66.4)\n",
      "Requirement already satisfied: joblib in c:\\programdata\\anaconda3\\lib\\site-packages (from pgmpy) (1.4.2)\n",
      "Requirement already satisfied: opt-einsum in c:\\users\\admin\\appdata\\roaming\\python\\python312\\site-packages (from pgmpy) (3.3.0)\n",
      "Requirement already satisfied: xgboost in c:\\users\\admin\\appdata\\roaming\\python\\python312\\site-packages (from pgmpy) (2.1.1)\n",
      "Requirement already satisfied: google-generativeai in c:\\users\\admin\\appdata\\roaming\\python\\python312\\site-packages (from pgmpy) (0.8.1)\n",
      "Requirement already satisfied: google-ai-generativelanguage==0.6.9 in c:\\users\\admin\\appdata\\roaming\\python\\python312\\site-packages (from google-generativeai->pgmpy) (0.6.9)\n",
      "Requirement already satisfied: google-api-core in c:\\users\\admin\\appdata\\roaming\\python\\python312\\site-packages (from google-generativeai->pgmpy) (2.19.2)\n",
      "Requirement already satisfied: google-api-python-client in c:\\users\\admin\\appdata\\roaming\\python\\python312\\site-packages (from google-generativeai->pgmpy) (2.146.0)\n",
      "Requirement already satisfied: google-auth>=2.15.0 in c:\\users\\admin\\appdata\\roaming\\python\\python312\\site-packages (from google-generativeai->pgmpy) (2.34.0)\n",
      "Requirement already satisfied: protobuf in c:\\users\\admin\\appdata\\roaming\\python\\python312\\site-packages (from google-generativeai->pgmpy) (5.28.2)\n",
      "Requirement already satisfied: pydantic in c:\\programdata\\anaconda3\\lib\\site-packages (from google-generativeai->pgmpy) (2.5.3)\n",
      "Requirement already satisfied: typing-extensions in c:\\programdata\\anaconda3\\lib\\site-packages (from google-generativeai->pgmpy) (4.11.0)\n",
      "Requirement already satisfied: proto-plus<2.0.0dev,>=1.22.3 in c:\\users\\admin\\appdata\\roaming\\python\\python312\\site-packages (from google-ai-generativelanguage==0.6.9->google-generativeai->pgmpy) (1.24.0)\n",
      "Requirement already satisfied: python-dateutil>=2.8.2 in c:\\programdata\\anaconda3\\lib\\site-packages (from pandas->pgmpy) (2.9.0.post0)\n",
      "Requirement already satisfied: pytz>=2020.1 in c:\\programdata\\anaconda3\\lib\\site-packages (from pandas->pgmpy) (2024.1)\n",
      "Requirement already satisfied: tzdata>=2022.7 in c:\\programdata\\anaconda3\\lib\\site-packages (from pandas->pgmpy) (2023.3)\n",
      "Requirement already satisfied: threadpoolctl>=2.0.0 in c:\\programdata\\anaconda3\\lib\\site-packages (from scikit-learn->pgmpy) (2.2.0)\n",
      "Requirement already satisfied: patsy>=0.5.6 in c:\\programdata\\anaconda3\\lib\\site-packages (from statsmodels->pgmpy) (0.5.6)\n",
      "Requirement already satisfied: packaging>=21.3 in c:\\programdata\\anaconda3\\lib\\site-packages (from statsmodels->pgmpy) (23.2)\n",
      "Requirement already satisfied: filelock in c:\\programdata\\anaconda3\\lib\\site-packages (from torch->pgmpy) (3.13.1)\n",
      "Requirement already satisfied: sympy in c:\\programdata\\anaconda3\\lib\\site-packages (from torch->pgmpy) (1.12)\n",
      "Requirement already satisfied: jinja2 in c:\\programdata\\anaconda3\\lib\\site-packages (from torch->pgmpy) (3.1.4)\n",
      "Requirement already satisfied: fsspec in c:\\programdata\\anaconda3\\lib\\site-packages (from torch->pgmpy) (2024.3.1)\n",
      "Requirement already satisfied: setuptools in c:\\programdata\\anaconda3\\lib\\site-packages (from torch->pgmpy) (69.5.1)\n",
      "Requirement already satisfied: colorama in c:\\programdata\\anaconda3\\lib\\site-packages (from tqdm->pgmpy) (0.4.6)\n",
      "Requirement already satisfied: googleapis-common-protos<2.0.dev0,>=1.56.2 in c:\\users\\admin\\appdata\\roaming\\python\\python312\\site-packages (from google-api-core->google-generativeai->pgmpy) (1.65.0)\n",
      "Requirement already satisfied: requests<3.0.0.dev0,>=2.18.0 in c:\\programdata\\anaconda3\\lib\\site-packages (from google-api-core->google-generativeai->pgmpy) (2.32.2)\n",
      "Requirement already satisfied: cachetools<6.0,>=2.0.0 in c:\\programdata\\anaconda3\\lib\\site-packages (from google-auth>=2.15.0->google-generativeai->pgmpy) (5.3.3)\n",
      "Requirement already satisfied: pyasn1-modules>=0.2.1 in c:\\programdata\\anaconda3\\lib\\site-packages (from google-auth>=2.15.0->google-generativeai->pgmpy) (0.2.8)\n",
      "Requirement already satisfied: rsa<5,>=3.1.4 in c:\\users\\admin\\appdata\\roaming\\python\\python312\\site-packages (from google-auth>=2.15.0->google-generativeai->pgmpy) (4.9)\n",
      "Requirement already satisfied: six in c:\\programdata\\anaconda3\\lib\\site-packages (from patsy>=0.5.6->statsmodels->pgmpy) (1.16.0)\n",
      "Requirement already satisfied: httplib2<1.dev0,>=0.19.0 in c:\\users\\admin\\appdata\\roaming\\python\\python312\\site-packages (from google-api-python-client->google-generativeai->pgmpy) (0.22.0)\n",
      "Requirement already satisfied: google-auth-httplib2<1.0.0,>=0.2.0 in c:\\users\\admin\\appdata\\roaming\\python\\python312\\site-packages (from google-api-python-client->google-generativeai->pgmpy) (0.2.0)\n",
      "Requirement already satisfied: uritemplate<5,>=3.0.1 in c:\\users\\admin\\appdata\\roaming\\python\\python312\\site-packages (from google-api-python-client->google-generativeai->pgmpy) (4.1.1)\n",
      "Requirement already satisfied: MarkupSafe>=2.0 in c:\\programdata\\anaconda3\\lib\\site-packages (from jinja2->torch->pgmpy) (2.1.3)\n",
      "Requirement already satisfied: annotated-types>=0.4.0 in c:\\programdata\\anaconda3\\lib\\site-packages (from pydantic->google-generativeai->pgmpy) (0.6.0)\n",
      "Requirement already satisfied: pydantic-core==2.14.6 in c:\\programdata\\anaconda3\\lib\\site-packages (from pydantic->google-generativeai->pgmpy) (2.14.6)\n",
      "Requirement already satisfied: mpmath>=0.19 in c:\\programdata\\anaconda3\\lib\\site-packages (from sympy->torch->pgmpy) (1.3.0)\n",
      "Requirement already satisfied: grpcio<2.0dev,>=1.33.2 in c:\\users\\admin\\appdata\\roaming\\python\\python312\\site-packages (from google-api-core[grpc]!=2.0.*,!=2.1.*,!=2.10.*,!=2.2.*,!=2.3.*,!=2.4.*,!=2.5.*,!=2.6.*,!=2.7.*,!=2.8.*,!=2.9.*,<3.0.0dev,>=1.34.1->google-ai-generativelanguage==0.6.9->google-generativeai->pgmpy) (1.66.1)\n",
      "Requirement already satisfied: grpcio-status<2.0.dev0,>=1.33.2 in c:\\users\\admin\\appdata\\roaming\\python\\python312\\site-packages (from google-api-core[grpc]!=2.0.*,!=2.1.*,!=2.10.*,!=2.2.*,!=2.3.*,!=2.4.*,!=2.5.*,!=2.6.*,!=2.7.*,!=2.8.*,!=2.9.*,<3.0.0dev,>=1.34.1->google-ai-generativelanguage==0.6.9->google-generativeai->pgmpy) (1.66.1)\n",
      "Requirement already satisfied: pyasn1<0.5.0,>=0.4.6 in c:\\programdata\\anaconda3\\lib\\site-packages (from pyasn1-modules>=0.2.1->google-auth>=2.15.0->google-generativeai->pgmpy) (0.4.8)\n",
      "Requirement already satisfied: charset-normalizer<4,>=2 in c:\\programdata\\anaconda3\\lib\\site-packages (from requests<3.0.0.dev0,>=2.18.0->google-api-core->google-generativeai->pgmpy) (2.0.4)\n",
      "Requirement already satisfied: idna<4,>=2.5 in c:\\programdata\\anaconda3\\lib\\site-packages (from requests<3.0.0.dev0,>=2.18.0->google-api-core->google-generativeai->pgmpy) (3.7)\n",
      "Requirement already satisfied: urllib3<3,>=1.21.1 in c:\\programdata\\anaconda3\\lib\\site-packages (from requests<3.0.0.dev0,>=2.18.0->google-api-core->google-generativeai->pgmpy) (2.2.2)\n",
      "Requirement already satisfied: certifi>=2017.4.17 in c:\\programdata\\anaconda3\\lib\\site-packages (from requests<3.0.0.dev0,>=2.18.0->google-api-core->google-generativeai->pgmpy) (2024.6.2)\n"
     ]
    }
   ],
   "source": [
    "!pip install pgmpy"
   ]
  },
  {
   "cell_type": "code",
   "execution_count": 2,
   "id": "eba47c73-0f0c-4d89-90f2-4e4a009422b0",
   "metadata": {},
   "outputs": [
    {
     "name": "stdout",
     "output_type": "stream",
     "text": [
      "Defaulting to user installation because normal site-packages is not writeable\n",
      "Requirement already satisfied: networkx in c:\\programdata\\anaconda3\\lib\\site-packages (3.2.1)\n"
     ]
    }
   ],
   "source": [
    "!pip install networkx"
   ]
  },
  {
   "cell_type": "code",
   "execution_count": 3,
   "id": "c645b5fc-b107-42d9-95f7-1b393f54584f",
   "metadata": {},
   "outputs": [
    {
     "name": "stdout",
     "output_type": "stream",
     "text": [
      "Defaulting to user installation because normal site-packages is not writeable\n",
      "Requirement already satisfied: numpy in c:\\programdata\\anaconda3\\lib\\site-packages (1.26.4)\n",
      "Requirement already satisfied: pandas in c:\\programdata\\anaconda3\\lib\\site-packages (2.2.2)\n",
      "Requirement already satisfied: scipy in c:\\programdata\\anaconda3\\lib\\site-packages (1.13.1)\n",
      "Collecting network\n",
      "  Downloading network-0.1.tar.gz (2.8 kB)\n",
      "  Preparing metadata (setup.py): started\n",
      "  Preparing metadata (setup.py): finished with status 'done'\n",
      "Requirement already satisfied: matplotlib in c:\\programdata\\anaconda3\\lib\\site-packages (3.8.4)\n",
      "Requirement already satisfied: python-dateutil>=2.8.2 in c:\\programdata\\anaconda3\\lib\\site-packages (from pandas) (2.9.0.post0)\n",
      "Requirement already satisfied: pytz>=2020.1 in c:\\programdata\\anaconda3\\lib\\site-packages (from pandas) (2024.1)\n",
      "Requirement already satisfied: tzdata>=2022.7 in c:\\programdata\\anaconda3\\lib\\site-packages (from pandas) (2023.3)\n",
      "Requirement already satisfied: contourpy>=1.0.1 in c:\\programdata\\anaconda3\\lib\\site-packages (from matplotlib) (1.2.0)\n",
      "Requirement already satisfied: cycler>=0.10 in c:\\programdata\\anaconda3\\lib\\site-packages (from matplotlib) (0.11.0)\n",
      "Requirement already satisfied: fonttools>=4.22.0 in c:\\programdata\\anaconda3\\lib\\site-packages (from matplotlib) (4.51.0)\n",
      "Requirement already satisfied: kiwisolver>=1.3.1 in c:\\programdata\\anaconda3\\lib\\site-packages (from matplotlib) (1.4.4)\n",
      "Requirement already satisfied: packaging>=20.0 in c:\\programdata\\anaconda3\\lib\\site-packages (from matplotlib) (23.2)\n",
      "Requirement already satisfied: pillow>=8 in c:\\programdata\\anaconda3\\lib\\site-packages (from matplotlib) (10.3.0)\n",
      "Requirement already satisfied: pyparsing>=2.3.1 in c:\\programdata\\anaconda3\\lib\\site-packages (from matplotlib) (3.0.9)\n",
      "Requirement already satisfied: six>=1.5 in c:\\programdata\\anaconda3\\lib\\site-packages (from python-dateutil>=2.8.2->pandas) (1.16.0)\n",
      "Building wheels for collected packages: network\n",
      "  Building wheel for network (setup.py): started\n",
      "  Building wheel for network (setup.py): finished with status 'done'\n",
      "  Created wheel for network: filename=network-0.1-py3-none-any.whl size=3143 sha256=b77b3dc4b536a05ea34709f8a9ae97877be1890aa68a0a140c6e6dc9c67bc453\n",
      "  Stored in directory: c:\\users\\admin\\appdata\\local\\pip\\cache\\wheels\\e7\\5a\\7a\\7f15bea66afb5505b9d10cc7bd8964cb77f0ce736df5b104c8\n",
      "Successfully built network\n",
      "Installing collected packages: network\n",
      "Successfully installed network-0.1\n"
     ]
    }
   ],
   "source": [
    "!pip install numpy pandas scipy network matplotlib"
   ]
  },
  {
   "cell_type": "code",
   "execution_count": 1,
   "id": "4c827d9c-8de5-4da2-b669-60b09520b8de",
   "metadata": {},
   "outputs": [
    {
     "data": {
      "image/png": "[encoded data removed]",
      "text/plain": [
       "<Figure size 640x480 with 1 Axes>"
      ]
     },
     "metadata": {},
     "output_type": "display_data"
    },
    {
     "name": "stdout",
     "output_type": "stream",
     "text": [
      "CPD of Age\n",
      "+---------+-----+\n",
      "| Age(30) | 0.2 |\n",
      "+---------+-----+\n",
      "| Age(40) | 0.2 |\n",
      "+---------+-----+\n",
      "| Age(50) | 0.2 |\n",
      "+---------+-----+\n",
      "| Age(60) | 0.2 |\n",
      "+---------+-----+\n",
      "| Age(70) | 0.2 |\n",
      "+---------+-----+\n",
      "CPD of HeartDisease\n",
      "+-------------------+---------------------+-----+--------------------+--------------------+\n",
      "| Age               | Age(30)             | ... | Age(70)            | Age(70)            |\n",
      "+-------------------+---------------------+-----+--------------------+--------------------+\n",
      "| ChestPain         | ChestPain(Atypical) | ... | ChestPain(Typical) | ChestPain(Typical) |\n",
      "+-------------------+---------------------+-----+--------------------+--------------------+\n",
      "| Gender            | Gender(Female)      | ... | Gender(Female)     | Gender(Male)       |\n",
      "+-------------------+---------------------+-----+--------------------+--------------------+\n",
      "| HeartDisease(No)  | 0.5                 | ... | 0.5                | 0.0                |\n",
      "+-------------------+---------------------+-----+--------------------+--------------------+\n",
      "| HeartDisease(Yes) | 0.5                 | ... | 0.5                | 1.0                |\n",
      "+-------------------+---------------------+-----+--------------------+--------------------+\n",
      "CPD of Gender\n",
      "+----------------+-----+\n",
      "| Gender(Female) | 0.4 |\n",
      "+----------------+-----+\n",
      "| Gender(Male)   | 0.6 |\n",
      "+----------------+-----+\n",
      "CPD of ChestPain\n",
      "+---------------------+-----+\n",
      "| ChestPain(Atypical) | 0.4 |\n",
      "+---------------------+-----+\n",
      "| ChestPain(Typical)  | 0.6 |\n",
      "+---------------------+-----+\n",
      "+-------------------+---------------------+\n",
      "| HeartDisease      |   phi(HeartDisease) |\n",
      "+===================+=====================+\n",
      "| HeartDisease(No)  |              0.0000 |\n",
      "+-------------------+---------------------+\n",
      "| HeartDisease(Yes) |              1.0000 |\n",
      "+-------------------+---------------------+\n"
     ]
    }
   ],
   "source": [
    "import numpy as np\n",
    "import pandas as pd\n",
    "from pgmpy.models import BayesianNetwork\n",
    "from pgmpy.estimators import ParameterEstimator, MaximumLikelihoodEstimator\n",
    "from pgmpy.inference import VariableElimination\n",
    "import networkx as nx\n",
    "import matplotlib.pyplot as plt\n",
    "\n",
    "data = pd.DataFrame (data={'Age': [30, 40, 50, 60, 70],\n",
    "                           'Gender': ['Male', 'Female', 'Male', 'Female', 'Male'],\n",
    "                           'ChestPain': ['Typical', 'Atypical', 'Typical', 'Atypical', 'Typical'],\n",
    "                           'HeartDisease': ['Yes', 'No', 'Yes', 'No', 'Yes']})\n",
    "model = BayesianNetwork([('Age', 'HeartDisease'),\n",
    "                         ('Gender', 'HeartDisease'),\n",
    "                         ('ChestPain', 'HeartDisease')])\n",
    "\n",
    "model.fit(data, estimator=MaximumLikelihoodEstimator)\n",
    "\n",
    "pos = nx.circular_layout(model)\n",
    "nx.draw(model, pos, with_labels=True, node_size=5000, node_color=\"skyblue\", font_size=12, font_color=\"black\")\n",
    "plt.title(\"Bayesian Network Structure\")\n",
    "plt.show()\n",
    "\n",
    "for cpd in model.get_cpds():\n",
    "    print(\"CPD of\", cpd.variable)\n",
    "    print(cpd)\n",
    "\n",
    "inference = VariableElimination(model)\n",
    "query = inference.query(variables=['HeartDisease'], evidence={'Age':50, 'Gender': 'Male', 'ChestPain': 'Typical'})\n",
    "print(query)\n"
   ]
  },
  {
   "cell_type": "code",
   "execution_count": null,
   "id": "b5b71527-1383-4431-bb7b-57c6ad0f7227",
   "metadata": {},
   "outputs": [],
   "source": []
  }
 ],
 "metadata": {
  "kernelspec": {
   "display_name": "Python 3 (ipykernel)",
   "language": "python",
   "name": "python3"
  },
  "language_info": {
   "codemirror_mode": {
    "name": "ipython",
    "version": 3
   },
   "file_extension": ".py",
   "mimetype": "text/x-python",
   "name": "python",
   "nbconvert_exporter": "python",
   "pygments_lexer": "ipython3",
   "version": "3.12.4"
  }
 },
 "nbformat": 4,
 "nbformat_minor": 5
}
